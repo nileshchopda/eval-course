{
  "cells": [
    {
      "cell_type": "markdown",
      "metadata": {
        "id": "ABI300ZsivOt"
      },
      "source": [
        "## Chapter 0: Setup\n",
        "\n",
        "<a target=\"_blank\" href=\"https://colab.research.google.com/github/wandb/eval-course/blob/main/notebooks/chapter_00.ipynb\">\n",
        "  <img src=\"https://colab.research.google.com/assets/colab-badge.svg\" alt=\"Open In Colab\"/>\n",
        "</a>\n",
        "\n",
        "<!--- @wandbcode{eval-course-00} -->\n",
        "\n",
        "Let's install the required packages and check our setup for this course.\n",
        "\n",
        "### 🎉 Free Google AI Studio Access\n",
        "\n",
        "Before you run this colab notebook, you'll need access to Google's Generative AI models. Here's how to get started:\n",
        "\n",
        "1. Visit [Google AI Studio](https://makersuite.google.com/app/home) and sign in with your Google account\n",
        "2. Get your API key from the \"Get API key\" section in Google AI Studio\n",
        "\n",
        "Alternatively, if you already have a Google AI Studio API key, feel free to proceed. :)"
      ]
    },
    {
      "cell_type": "code",
      "execution_count": 5,
      "metadata": {
        "id": "fxGWQUuFivOx"
      },
      "outputs": [],
      "source": [
        "!pip install -qq weave google-generativeai"
      ]
    },
    {
      "cell_type": "markdown",
      "metadata": {
        "id": "ft6r1TvLivOy"
      },
      "source": [
        "## 1. Setup Weave\n",
        "\n",
        "\n",
        "The code cell below will prompt you to put in a W&B API key. You can get your API key by heading over to https://wandb.ai/authorize."
      ]
    },
    {
      "cell_type": "code",
      "execution_count": 6,
      "metadata": {
        "id": "NyIr4eSMivOy"
      },
      "outputs": [],
      "source": [
        "# import weave\n",
        "import weave\n",
        "\n",
        "# initialize weave client\n",
        "weave_client = weave.init(\"eval_course_ch0\")"
      ]
    },
    {
      "cell_type": "markdown",
      "metadata": {
        "id": "-sN8MW1fivOz"
      },
      "source": [
        "## 2. Setup Google AI Studio\n",
        "\n",
        "The code cell below will prompt you to put in a Google AI Studio API key."
      ]
    },
    {
      "cell_type": "code",
      "execution_count": 7,
      "metadata": {
        "id": "pR_gaqJIivOz",
        "outputId": "9d092823-ca43-4e2e-a2f3-93929e6324d0",
        "colab": {
          "base_uri": "https://localhost:8080/"
        }
      },
      "outputs": [
        {
          "name": "stdout",
          "output_type": "stream",
          "text": [
            "Please enter your Google AI Studio API key··········\n"
          ]
        }
      ],
      "source": [
        "import getpass\n",
        "\n",
        "import google.generativeai as genai\n",
        "\n",
        "genai.configure(api_key=getpass.getpass(\"Please enter your Google AI Studio API key\"))"
      ]
    },
    {
      "cell_type": "markdown",
      "metadata": {
        "id": "-fVCbaHRivOz"
      },
      "source": [
        "## A simple-turn chat with Google AI Studio's gemini-2.0-flash-exp\n"
      ]
    },
    {
      "cell_type": "code",
      "execution_count": 8,
      "metadata": {
        "id": "AUn1sErVivO0",
        "outputId": "1ab2f0c7-cd5c-4d8c-b170-cde67f422849",
        "colab": {
          "base_uri": "https://localhost:8080/",
          "height": 1000
        }
      },
      "outputs": [
        {
          "output_type": "stream",
          "name": "stdout",
          "text": [
            "🍩 https://wandb.ai/nilesh-chopda2112-calsoft/eval_course_ch0/r/call/01944f8b-d51a-79b1-9ad9-4d5f62666005\n",
            "Okay, let's break down how AI works, keeping it relatively easy to understand. It's a broad field, so I'll focus on the core concepts and common techniques.\n",
            "\n",
            "**At its core, AI is about getting computers to perform tasks that typically require human intelligence.** This includes things like:\n",
            "\n",
            "* **Learning:** Improving from data without being explicitly programmed.\n",
            "* **Problem Solving:** Finding solutions to complex issues.\n",
            "* **Understanding Language:** Processing and responding to human language.\n",
            "* **Recognizing Patterns:** Identifying trends and regularities in data.\n",
            "\n",
            "**Here's a breakdown of the key elements and processes involved in AI:**\n",
            "\n",
            "**1. Data is the Fuel:**\n",
            "\n",
            "* **Massive Amounts:** AI, especially machine learning, thrives on data. The more data you feed an AI system, the better it learns and performs.\n",
            "* **Variety of Forms:** Data can be anything – text, images, audio, numerical data, etc.\n",
            "* **Quality Matters:** Clean, accurate, and relevant data is crucial for building effective AI models.\n",
            "\n",
            "**2. Algorithms: The Recipes for Learning:**\n",
            "\n",
            "* **Step-by-Step Instructions:** Algorithms are sets of instructions that tell the computer how to process data and make decisions.\n",
            "* **Various Types:** Different algorithms are suited for different tasks. Some common types include:\n",
            "    * **Supervised Learning:** Training an AI on labeled data (e.g., showing it pictures of cats and dogs and telling it which is which).\n",
            "    * **Unsupervised Learning:** Finding patterns in unlabeled data (e.g., grouping customers based on their buying behavior).\n",
            "    * **Reinforcement Learning:** Training an AI through trial and error, rewarding it for good actions (e.g., teaching a robot to walk).\n",
            "* **Mathematical Foundations:** Many algorithms are rooted in mathematics and statistics.\n",
            "\n",
            "**3. Models: The Learned Representations:**\n",
            "\n",
            "* **Learned Patterns:** After being trained with data and an algorithm, an AI creates a model. This model is a representation of the patterns it has learned from the data.\n",
            "* **Making Predictions:** The model is then used to make predictions, decisions, or generate new outputs.\n",
            "* **Accuracy Varies:** The accuracy of the model depends on the quality of the data, the algorithm used, and the training process.\n",
            "\n",
            "**4. The Learning Process (Typically Machine Learning):**\n",
            "\n",
            "* **Training:** The AI system is fed data, and the algorithm adjusts the model's parameters until it can accurately perform the desired task.\n",
            "* **Validation:** The model is tested on data it hasn't seen before to evaluate its performance and prevent overfitting (learning the training data too well but performing poorly on new data).\n",
            "* **Iteration:** The process of training, validating, and refining the model is often repeated many times until the desired performance is achieved.\n",
            "\n",
            "**Here's a Simplified Analogy:**\n",
            "\n",
            "Imagine you're teaching a child to recognize different types of fruit:\n",
            "\n",
            "* **Data:** You show the child lots of pictures of apples, bananas, and oranges.\n",
            "* **Algorithm:** You tell the child to notice the differences in color, shape, and size.\n",
            "* **Model:** The child forms a mental picture of what each fruit looks like.\n",
            "* **Learning Process:** You show the child a new picture of a fruit, and they try to identify it. If they're wrong, you correct them, and they adjust their mental picture (model).\n",
            "\n",
            "**Different Areas of AI:**\n",
            "\n",
            "* **Machine Learning (ML):** The most common area of AI, focusing on training computers to learn from data without explicit programming.\n",
            "* **Deep Learning (DL):** A subset of ML using artificial neural networks with multiple layers to extract complex patterns from data. This is behind many recent AI breakthroughs.\n",
            "* **Natural Language Processing (NLP):** Focuses on enabling computers to understand, interpret, and generate human language.\n",
            "* **Computer Vision:** Enables computers to \"see\" and interpret images and videos.\n",
            "* **Robotics:** Combines AI with physical robots to perform tasks in the real world.\n",
            "\n",
            "**Key Concepts to Remember:**\n",
            "\n",
            "* **Artificial Intelligence is a broad field.**\n",
            "* **Data is the foundation of AI systems.**\n",
            "* **Algorithms are the instructions for learning.**\n",
            "* **Models represent the learned patterns.**\n",
            "* **Machine learning is the dominant approach to AI today.**\n",
            "\n",
            "**In essence, AI uses data and algorithms to create models that can learn, solve problems, and make predictions, often mimicking aspects of human intelligence.** It's a rapidly evolving field, and new techniques are constantly being developed. This explanation provides a basic understanding of how AI works, laying a foundation for exploring more advanced concepts.\n",
            "\n"
          ]
        }
      ],
      "source": [
        "model = genai.GenerativeModel(\"gemini-2.0-flash-exp\")\n",
        "response = model.generate_content(\"Explain how AI works\")\n",
        "print(response.text)"
      ]
    },
    {
      "cell_type": "markdown",
      "metadata": {
        "id": "w7vyq3MMivO0"
      },
      "source": [
        "Let's head over to the weave URL to check out the generated response."
      ]
    }
  ],
  "metadata": {
    "colab": {
      "provenance": []
    },
    "kernelspec": {
      "display_name": "Python 3",
      "name": "python3"
    },
    "language_info": {
      "codemirror_mode": {
        "name": "ipython",
        "version": 3
      },
      "file_extension": ".py",
      "mimetype": "text/x-python",
      "name": "python",
      "nbconvert_exporter": "python",
      "pygments_lexer": "ipython3",
      "version": "3.10.12"
    }
  },
  "nbformat": 4,
  "nbformat_minor": 0
}